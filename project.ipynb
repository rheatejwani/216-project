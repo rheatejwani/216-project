{
 "cells": [
  {
   "cell_type": "code",
   "execution_count": null,
   "metadata": {},
   "outputs": [],
   "source": []
  },
  {
   "cell_type": "code",
   "execution_count": 5,
   "metadata": {},
   "outputs": [
    {
     "name": "stdout",
     "output_type": "stream",
     "text": [
      "   play_id         game_id  old_game_id home_team away_team season_type  week  \\\n",
      "0        1  2020_01_ARI_SF   2020091311        SF       ARI         REG     1   \n",
      "1       39  2020_01_ARI_SF   2020091311        SF       ARI         REG     1   \n",
      "2       54  2020_01_ARI_SF   2020091311        SF       ARI         REG     1   \n",
      "3       93  2020_01_ARI_SF   2020091311        SF       ARI         REG     1   \n",
      "4      118  2020_01_ARI_SF   2020091311        SF       ARI         REG     1   \n",
      "\n",
      "  posteam posteam_type defteam  ... out_of_bounds  home_opening_kickoff  \\\n",
      "0     NaN          NaN     NaN  ...             0                     1   \n",
      "1      SF         home     ARI  ...             0                     1   \n",
      "2      SF         home     ARI  ...             0                     1   \n",
      "3      SF         home     ARI  ...             0                     1   \n",
      "4      SF         home     ARI  ...             0                     1   \n",
      "\n",
      "     qb_epa  xyac_epa  xyac_mean_yardage  xyac_median_yardage xyac_success  \\\n",
      "0       NaN       NaN                NaN                  NaN          NaN   \n",
      "1  0.000000       NaN                NaN                  NaN          NaN   \n",
      "2  1.294838   0.50337           4.275047                  2.0     0.619306   \n",
      "3  0.857214       NaN                NaN                  NaN          NaN   \n",
      "4 -0.454665       NaN                NaN                  NaN          NaN   \n",
      "\n",
      "    xyac_fd     xpass    pass_oe  \n",
      "0       NaN       NaN        NaN  \n",
      "1       NaN       NaN        NaN  \n",
      "2  0.239695  0.515058  48.494154  \n",
      "3       NaN  0.413357 -41.335732  \n",
      "4       NaN  0.446920 -44.692025  \n",
      "\n",
      "[5 rows x 372 columns]\n"
     ]
    }
   ],
   "source": [
    "#Documentation: https://github.com/maxbolger/nflfastR-Python-Tutorial/blob/main/nflfastR_python_tutorial.ipynb\n",
    "import pandas as pd\n",
    "import numpy as np\n",
    "import matplotlib.pyplot as plt\n",
    "import seaborn as sns\n",
    "\n",
    "YEAR = 2020\n",
    "\n",
    "data = pd.read_csv(\n",
    "    'https://github.com/guga31bb/nflfastR-data/blob/master/data/play_by_play_2020.csv.gz?raw=True',compression='gzip', low_memory=False\n",
    "    )\n",
    "\n",
    "print(data.head())\n",
    "\n",
    "\n"
   ]
  },
  {
   "cell_type": "code",
   "execution_count": null,
   "metadata": {},
   "outputs": [],
   "source": []
  }
 ],
 "metadata": {
  "kernelspec": {
   "display_name": "Python 3",
   "language": "python",
   "name": "python3"
  },
  "language_info": {
   "codemirror_mode": {
    "name": "ipython",
    "version": 3
   },
   "file_extension": ".py",
   "mimetype": "text/x-python",
   "name": "python",
   "nbconvert_exporter": "python",
   "pygments_lexer": "ipython3",
   "version": "3.8.5"
  }
 },
 "nbformat": 4,
 "nbformat_minor": 4
}
